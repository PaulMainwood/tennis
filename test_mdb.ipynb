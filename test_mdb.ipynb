{
 "cells": [
  {
   "cell_type": "code",
   "execution_count": 13,
   "metadata": {},
   "outputs": [
    {
     "name": "stdout",
     "output_type": "stream",
     "text": [
      "The autoreload extension is already loaded. To reload it, use:\n",
      "  %reload_ext autoreload\n"
     ]
    }
   ],
   "source": [
    "from src import loader\n",
    "from riix.models.elo import Elo\n",
    "from riix.models.glicko2 import Glicko2\n",
    "from riix.models.sticko import Sticko\n",
    "from riix.models.ttt import TrueSkillThroughTime\n",
    "from riix.utils import MatchupDataset, split_matchup_dataset, generate_matchup_data\n",
    "from riix.metrics import binary_metrics_suite\n",
    "#from riix.models.eloplus import EloPlus\n",
    "from riix.models.glicko import Glicko\n",
    "import polars as pl\n",
    "import numpy as np\n",
    "import trueskill_through_time as ttt\n",
    "import cProfile\n",
    "from scipy.optimize import minimize_scalar\n",
    "import xgboost as xgb\n",
    "from sklearn.metrics import accuracy_score, log_loss, brier_score_loss\n",
    "\n",
    "%load_ext autoreload\n",
    "%autoreload 2"
   ]
  },
  {
   "cell_type": "code",
   "execution_count": 21,
   "metadata": {},
   "outputs": [],
   "source": [
    "mdb_file = r\"/mnt/c/Program Files (x86)/OnCourt/OnCourt.mdb\"\n",
    "password = \"qKbE8lWacmYQsZ2\"\n",
    "atp = loader.TennisLoader(mdb_file, password)"
   ]
  },
  {
   "cell_type": "code",
   "execution_count": 22,
   "metadata": {},
   "outputs": [],
   "source": [
    "atp.clean_games()"
   ]
  },
  {
   "cell_type": "code",
   "execution_count": 109,
   "metadata": {},
   "outputs": [
    {
     "name": "stdout",
     "output_type": "stream",
     "text": [
      "loaded dataset with:\n",
      "967945 matchups\n",
      "39262 unique competitors\n",
      "12839 rating periods of length 1D\n",
      "split into train_dataset of length 96795 and test_dataset of length 871150\n"
     ]
    }
   ],
   "source": [
    "dataset = MatchupDataset(\n",
    "    atp.to_riix_format(sample_games=1000000),\n",
    "    competitor_cols = ['P1', 'P2'],\n",
    "    outcome_col = 'Result',\n",
    "    datetime_col = 'Date',\n",
    "    rating_period = '1D',\n",
    ")\n",
    "train_dataset, test_dataset = split_matchup_dataset(dataset, test_fraction=0.9)"
   ]
  },
  {
   "cell_type": "code",
   "execution_count": 124,
   "metadata": {},
   "outputs": [
    {
     "name": "stdout",
     "output_type": "stream",
     "text": [
      "{'accuracy': np.float64(0.7043758250588302), 'accuracy_without_draws': np.float64(0.7043758250588302), 'log_loss': np.float64(0.5675423741633863), 'brier_score': np.float64(0.19248680021662)}\n"
     ]
    }
   ],
   "source": [
    "model_Elo = Elo(train_dataset.competitors, k = 90)\n",
    "model_Elo.fit_dataset(train_dataset)\n",
    "test_probs_Elo = model_Elo.fit_dataset(test_dataset, return_pre_match_probs=True)\n",
    "test_metrics_Elo = binary_metrics_suite(probs=test_probs_Elo, outcomes=test_dataset.outcomes)\n",
    "print(test_metrics_Elo)"
   ]
  },
  {
   "cell_type": "code",
   "execution_count": 49,
   "metadata": {},
   "outputs": [
    {
     "name": "stdout",
     "output_type": "stream",
     "text": [
      "{'accuracy': np.float64(0.7089604166666666), 'accuracy_without_draws': np.float64(0.7089604166666666), 'log_loss': np.float64(0.5542591061747458), 'brier_score': np.float64(0.18825878324441994)}\n"
     ]
    }
   ],
   "source": [
    "model_Glicko = Glicko(train_dataset.competitors, c = 6.33)\n",
    "model_Glicko.fit_dataset(train_dataset)\n",
    "test_probs_Glicko = model_Glicko.fit_dataset(test_dataset, return_pre_match_probs=True)\n",
    "test_metrics_Glicko = binary_metrics_suite(probs=test_probs_Glicko, outcomes=test_dataset.outcomes)\n",
    "print(test_metrics_Glicko)"
   ]
  },
  {
   "cell_type": "code",
   "execution_count": 50,
   "metadata": {},
   "outputs": [
    {
     "name": "stdout",
     "output_type": "stream",
     "text": [
      "{'accuracy': np.float64(0.7128243055555555), 'accuracy_without_draws': np.float64(0.7128243055555555), 'log_loss': np.float64(0.5500693790495248), 'brier_score': np.float64(0.18635849139655974)}\n"
     ]
    }
   ],
   "source": [
    "model_Glicko2 = Glicko2(train_dataset.competitors, tau = 9.465461359819516, initial_sigma = 0.04615461031041576)\n",
    "model_Glicko2.fit_dataset(train_dataset)\n",
    "test_probs_Glicko2 = model_Glicko2.fit_dataset(test_dataset, return_pre_match_probs=True)\n",
    "test_metrics_Glicko2 = binary_metrics_suite(probs=test_probs_Glicko2, outcomes=test_dataset.outcomes)\n",
    "print(test_metrics_Glicko2)"
   ]
  },
  {
   "cell_type": "code",
   "execution_count": 51,
   "metadata": {},
   "outputs": [
    {
     "name": "stdout",
     "output_type": "stream",
     "text": [
      "{'accuracy': np.float64(0.72363125), 'accuracy_without_draws': np.float64(0.72363125), 'log_loss': np.float64(0.5376469009457989), 'brier_score': np.float64(0.18114626818914822)}\n"
     ]
    }
   ],
   "source": [
    "model_Sticko = Sticko(train_dataset.competitors, c = 7.301939694943711, h = 260.6, beta = 0.023903153784953272)\n",
    "model_Sticko.fit_dataset(train_dataset)\n",
    "test_probs_Sticko = model_Sticko.fit_dataset(test_dataset, return_pre_match_probs=True)\n",
    "test_metrics_Sticko = binary_metrics_suite(probs=test_probs_Sticko, outcomes=test_dataset.outcomes)\n",
    "print(test_metrics_Sticko)"
   ]
  },
  {
   "cell_type": "code",
   "execution_count": 55,
   "metadata": {},
   "outputs": [],
   "source": [
    "n_test = 10000\n",
    "combined_probs = pl.DataFrame({\n",
    "    'elo': test_probs_Elo,\n",
    "    'glicko': test_probs_Glicko,\n",
    "    'glicko2': test_probs_Glicko2,\n",
    "    'sticko': test_probs_Sticko,\n",
    "    'result': test_dataset.outcomes\n",
    "})\n",
    "combined_probs_train = combined_probs.head(len(combined_probs) - n_test)\n",
    "combined_probs_test = combined_probs.tail(n_test)\n",
    "\n",
    "# Separate features and target for training\n",
    "X_train = combined_probs_train.select(['elo', 'glicko', 'glicko2', 'sticko'])\n",
    "y_train = combined_probs_train['result']\n",
    "\n",
    "# Separate features and target for testing\n",
    "X_test = combined_probs_test.select(['elo', 'glicko', 'glicko2', 'sticko'])\n",
    "y_test = combined_probs_test['result']"
   ]
  },
  {
   "cell_type": "code",
   "execution_count": 99,
   "metadata": {},
   "outputs": [
    {
     "name": "stdout",
     "output_type": "stream",
     "text": [
      "Accuracy: 0.7234\n",
      "Log Loss: 0.5363299514810272\n"
     ]
    }
   ],
   "source": [
    "# Instantiate the XGBoost model\n",
    "xgb_model = xgb.XGBClassifier(eval_metric='logloss')\n",
    "\n",
    "# Fit the model using the training data\n",
    "xgb_model.fit(X_train.to_numpy(), y_train.to_numpy())\n",
    "\n",
    "# Make predictions on the test data\n",
    "y_pred = xgb_model.predict(X_test.to_numpy())\n",
    "y_pred_proba = xgb_model.predict_proba(X_test.to_numpy())\n",
    "\n",
    "# Evaluate the model's performance\n",
    "accuracy = accuracy_score(y_test.to_numpy(), y_pred)\n",
    "logloss = log_loss(y_test.to_numpy(), y_pred_proba)\n",
    "#brier = brier_score_loss(y_test, y_pred_proba)\n",
    "\n",
    "print(f\"Accuracy: {accuracy}\")\n",
    "print(f\"Log Loss: {logloss}\")\n",
    "#print(f\"Brier:, {brier}\")"
   ]
  },
  {
   "cell_type": "code",
   "execution_count": 96,
   "metadata": {},
   "outputs": [],
   "source": [
    "logloss_elo = log_loss(y_test, X_test['elo'].to_numpy())\n",
    "brier_elo = brier_score_loss(y_test, X_test['elo'].to_numpy())"
   ]
  },
  {
   "cell_type": "code",
   "execution_count": 101,
   "metadata": {},
   "outputs": [],
   "source": [
    "logloss_sticko = log_loss(y_test, X_test['sticko'].to_numpy())\n",
    "brier_sticko = brier_score_loss(y_test, X_test['sticko'].to_numpy())"
   ]
  },
  {
   "cell_type": "code",
   "execution_count": 102,
   "metadata": {},
   "outputs": [
    {
     "data": {
      "text/plain": [
       "0.5379674337922878"
      ]
     },
     "execution_count": 102,
     "metadata": {},
     "output_type": "execute_result"
    }
   ],
   "source": [
    "logloss_sticko"
   ]
  },
  {
   "cell_type": "code",
   "execution_count": 92,
   "metadata": {},
   "outputs": [
    {
     "data": {
      "text/plain": [
       "(array([0.33741685, 0.26124487, 0.33797615, ..., 0.16509364, 0.16257314,\n",
       "        0.27562489]),\n",
       " array([0., 1., 1., ..., 1., 0., 0.]))"
      ]
     },
     "execution_count": 92,
     "metadata": {},
     "output_type": "execute_result"
    }
   ],
   "source": [
    "X_test['elo'].to_numpy(), y_test.to_numpy()"
   ]
  },
  {
   "cell_type": "code",
   "execution_count": 64,
   "metadata": {},
   "outputs": [
    {
     "data": {
      "text/plain": [
       "array([0., 1., 1., ..., 1., 0., 0.])"
      ]
     },
     "execution_count": 64,
     "metadata": {},
     "output_type": "execute_result"
    }
   ],
   "source": [
    "y_test.to_numpy()"
   ]
  },
  {
   "cell_type": "code",
   "execution_count": 19,
   "metadata": {},
   "outputs": [
    {
     "data": {
      "text/plain": [
       "['categories_atp',\n",
       " 'categories_mxt',\n",
       " 'categories_wta',\n",
       " 'courts',\n",
       " 'ep_atp',\n",
       " 'ep_wta',\n",
       " 'facts_atp',\n",
       " 'games_atp',\n",
       " 'games_mxt',\n",
       " 'games_wta',\n",
       " 'injury_atp',\n",
       " 'injury_wta',\n",
       " 'links',\n",
       " 'metrics_wta',\n",
       " 'odds_atp',\n",
       " 'odds_mxt',\n",
       " 'odds_wta',\n",
       " 'players_atp',\n",
       " 'players_mxt',\n",
       " 'players_wta',\n",
       " 'points',\n",
       " 'ratings_atp',\n",
       " 'ratings_wta',\n",
       " 'rounds',\n",
       " 'seed_atp',\n",
       " 'seed_mxt',\n",
       " 'seed_wta',\n",
       " 'stat_atp',\n",
       " 'stat_mxt',\n",
       " 'stat_wta',\n",
       " 'today_atp',\n",
       " 'today_mxt',\n",
       " 'today_wta',\n",
       " 'tours_atp',\n",
       " 'tours_mxt',\n",
       " 'tours_wta',\n",
       " 'url',\n",
       " 'version',\n",
       " 'facts_wta',\n",
       " 'metrics_atp']"
      ]
     },
     "execution_count": 19,
     "metadata": {},
     "output_type": "execute_result"
    }
   ],
   "source": [
    "atp.get_tables()"
   ]
  },
  {
   "cell_type": "code",
   "execution_count": 7,
   "metadata": {},
   "outputs": [
    {
     "data": {
      "text/html": [
       "<div><style>\n",
       ".dataframe > thead > tr,\n",
       ".dataframe > tbody > tr {\n",
       "  text-align: right;\n",
       "  white-space: pre-wrap;\n",
       "}\n",
       "</style>\n",
       "<small>shape: (1_116_781, 6)</small><table border=\"1\" class=\"dataframe\"><thead><tr><th>ID1_G</th><th>ID2_G</th><th>ID_T_G</th><th>ID_R_G</th><th>RESULT_G</th><th>DATE_G</th></tr><tr><td>i64</td><td>i64</td><td>i64</td><td>i64</td><td>str</td><td>str</td></tr></thead><tbody><tr><td>115</td><td>105</td><td>1</td><td>12</td><td>&quot;6-2 6-1&quot;</td><td>null</td></tr><tr><td>35</td><td>223</td><td>1</td><td>4</td><td>&quot;7-5 6-1&quot;</td><td>null</td></tr><tr><td>61</td><td>110</td><td>1</td><td>4</td><td>&quot;6-4 6-3&quot;</td><td>null</td></tr><tr><td>275</td><td>181</td><td>1</td><td>4</td><td>&quot;4-6 6-4 6-4&quot;</td><td>null</td></tr><tr><td>105</td><td>103</td><td>1</td><td>4</td><td>&quot;6-3 3-6 6-3&quot;</td><td>null</td></tr><tr><td>&hellip;</td><td>&hellip;</td><td>&hellip;</td><td>&hellip;</td><td>&hellip;</td><td>&hellip;</td></tr><tr><td>96765</td><td>56274</td><td>20404</td><td>4</td><td>&quot;4-6 7-6(10) 7-6(5)&quot;</td><td>&quot;02/24/25 00:00:00&quot;</td></tr><tr><td>14861</td><td>84377</td><td>20404</td><td>4</td><td>&quot;6-2 6-3&quot;</td><td>&quot;02/24/25 00:00:00&quot;</td></tr><tr><td>90508</td><td>58999</td><td>20506</td><td>3</td><td>&quot;3-6 6-3 6-2&quot;</td><td>&quot;02/24/25 00:00:00&quot;</td></tr><tr><td>79066</td><td>30978</td><td>20506</td><td>3</td><td>&quot;6-1 6-1&quot;</td><td>&quot;02/24/25 00:00:00&quot;</td></tr><tr><td>30944</td><td>65253</td><td>20506</td><td>3</td><td>&quot;6-3 6-2&quot;</td><td>&quot;02/24/25 00:00:00&quot;</td></tr></tbody></table></div>"
      ],
      "text/plain": [
       "shape: (1_116_781, 6)\n",
       "┌───────┬───────┬────────┬────────┬────────────────────┬───────────────────┐\n",
       "│ ID1_G ┆ ID2_G ┆ ID_T_G ┆ ID_R_G ┆ RESULT_G           ┆ DATE_G            │\n",
       "│ ---   ┆ ---   ┆ ---    ┆ ---    ┆ ---                ┆ ---               │\n",
       "│ i64   ┆ i64   ┆ i64    ┆ i64    ┆ str                ┆ str               │\n",
       "╞═══════╪═══════╪════════╪════════╪════════════════════╪═══════════════════╡\n",
       "│ 115   ┆ 105   ┆ 1      ┆ 12     ┆ 6-2 6-1            ┆ null              │\n",
       "│ 35    ┆ 223   ┆ 1      ┆ 4      ┆ 7-5 6-1            ┆ null              │\n",
       "│ 61    ┆ 110   ┆ 1      ┆ 4      ┆ 6-4 6-3            ┆ null              │\n",
       "│ 275   ┆ 181   ┆ 1      ┆ 4      ┆ 4-6 6-4 6-4        ┆ null              │\n",
       "│ 105   ┆ 103   ┆ 1      ┆ 4      ┆ 6-3 3-6 6-3        ┆ null              │\n",
       "│ …     ┆ …     ┆ …      ┆ …      ┆ …                  ┆ …                 │\n",
       "│ 96765 ┆ 56274 ┆ 20404  ┆ 4      ┆ 4-6 7-6(10) 7-6(5) ┆ 02/24/25 00:00:00 │\n",
       "│ 14861 ┆ 84377 ┆ 20404  ┆ 4      ┆ 6-2 6-3            ┆ 02/24/25 00:00:00 │\n",
       "│ 90508 ┆ 58999 ┆ 20506  ┆ 3      ┆ 3-6 6-3 6-2        ┆ 02/24/25 00:00:00 │\n",
       "│ 79066 ┆ 30978 ┆ 20506  ┆ 3      ┆ 6-1 6-1            ┆ 02/24/25 00:00:00 │\n",
       "│ 30944 ┆ 65253 ┆ 20506  ┆ 3      ┆ 6-3 6-2            ┆ 02/24/25 00:00:00 │\n",
       "└───────┴───────┴────────┴────────┴────────────────────┴───────────────────┘"
      ]
     },
     "execution_count": 7,
     "metadata": {},
     "output_type": "execute_result"
    }
   ],
   "source": [
    "atp.get_table('games_atp')"
   ]
  },
  {
   "cell_type": "code",
   "execution_count": 23,
   "metadata": {},
   "outputs": [
    {
     "data": {
      "text/html": [
       "<div><style>\n",
       ".dataframe > thead > tr,\n",
       ".dataframe > tbody > tr {\n",
       "  text-align: right;\n",
       "  white-space: pre-wrap;\n",
       "}\n",
       "</style>\n",
       "<small>shape: (55_395_436, 5)</small><table border=\"1\" class=\"dataframe\"><thead><tr><th>P1</th><th>P2</th><th>Surface</th><th>Day</th><th>Date</th></tr><tr><td>i64</td><td>i64</td><td>null</td><td>null</td><td>null</td></tr></thead><tbody><tr><td>401</td><td>921</td><td>null</td><td>null</td><td>null</td></tr><tr><td>401</td><td>921</td><td>null</td><td>null</td><td>null</td></tr><tr><td>401</td><td>921</td><td>null</td><td>null</td><td>null</td></tr><tr><td>401</td><td>921</td><td>null</td><td>null</td><td>null</td></tr><tr><td>401</td><td>921</td><td>null</td><td>null</td><td>null</td></tr><tr><td>&hellip;</td><td>&hellip;</td><td>&hellip;</td><td>&hellip;</td><td>&hellip;</td></tr><tr><td>30978</td><td>79066</td><td>null</td><td>null</td><td>null</td></tr><tr><td>30978</td><td>79066</td><td>null</td><td>null</td><td>null</td></tr><tr><td>30978</td><td>79066</td><td>null</td><td>null</td><td>null</td></tr><tr><td>30978</td><td>79066</td><td>null</td><td>null</td><td>null</td></tr><tr><td>30978</td><td>79066</td><td>null</td><td>null</td><td>null</td></tr></tbody></table></div>"
      ],
      "text/plain": [
       "shape: (55_395_436, 5)\n",
       "┌───────┬───────┬─────────┬──────┬──────┐\n",
       "│ P1    ┆ P2    ┆ Surface ┆ Day  ┆ Date │\n",
       "│ ---   ┆ ---   ┆ ---     ┆ ---  ┆ ---  │\n",
       "│ i64   ┆ i64   ┆ null    ┆ null ┆ null │\n",
       "╞═══════╪═══════╪═════════╪══════╪══════╡\n",
       "│ 401   ┆ 921   ┆ null    ┆ null ┆ null │\n",
       "│ 401   ┆ 921   ┆ null    ┆ null ┆ null │\n",
       "│ 401   ┆ 921   ┆ null    ┆ null ┆ null │\n",
       "│ 401   ┆ 921   ┆ null    ┆ null ┆ null │\n",
       "│ 401   ┆ 921   ┆ null    ┆ null ┆ null │\n",
       "│ …     ┆ …     ┆ …       ┆ …    ┆ …    │\n",
       "│ 30978 ┆ 79066 ┆ null    ┆ null ┆ null │\n",
       "│ 30978 ┆ 79066 ┆ null    ┆ null ┆ null │\n",
       "│ 30978 ┆ 79066 ┆ null    ┆ null ┆ null │\n",
       "│ 30978 ┆ 79066 ┆ null    ┆ null ┆ null │\n",
       "│ 30978 ┆ 79066 ┆ null    ┆ null ┆ null │\n",
       "└───────┴───────┴─────────┴──────┴──────┘"
      ]
     },
     "execution_count": 23,
     "metadata": {},
     "output_type": "execute_result"
    }
   ],
   "source": [
    "atp.create_points_games()"
   ]
  },
  {
   "cell_type": "code",
   "execution_count": 24,
   "metadata": {},
   "outputs": [
    {
     "name": "stdout",
     "output_type": "stream",
     "text": [
      "Error reading table atp_stat: Command '['mdb-export', '/mnt/c/Program Files (x86)/OnCourt/OnCourt.mdb', 'atp_stat']' returned non-zero exit status 1.\n"
     ]
    },
    {
     "name": "stderr",
     "output_type": "stream",
     "text": [
      "Error: Table atp_stat does not exist in this database.\n"
     ]
    }
   ],
   "source": [
    "atp.get_table('atp_stat')"
   ]
  },
  {
   "cell_type": "code",
   "execution_count": 62,
   "metadata": {},
   "outputs": [],
   "source": [
    "model_ttt = TrueSkillThroughTime(train_dataset, beta = 0.65, iterations = 5)"
   ]
  },
  {
   "cell_type": "code",
   "execution_count": 63,
   "metadata": {},
   "outputs": [
    {
     "name": "stdout",
     "output_type": "stream",
     "text": [
      "Iteration =  0 , step =  (14.890971166343009, 5.182221998049987)\n",
      "Iteration =  1 , step =  (3.736037776706861, 1.4479072145697867)\n",
      "Iteration =  2 , step =  (1.4806719031861482, 0.509851733378992)\n",
      "Iteration =  3 , step =  (0.3672129822355088, 0.14592694710301934)\n",
      "Iteration =  4 , step =  (0.16819834343572992, 0.03712173748539471)\n",
      "End\n",
      "Iteration =  0 , step =  (0.34853489546275096, 0.12373774478966576)\n",
      "Iteration =  1 , step =  (0.0460622205696124, 0.009366288838060566)\n",
      "Iteration =  2 , step =  (0.02663723880671931, 0.004793480377183412)\n",
      "Iteration =  3 , step =  (0.017879834348702772, 0.0026477018078892023)\n",
      "Iteration =  4 , step =  (0.01319536655566056, 0.0019745259252470504)\n",
      "End\n",
      "Iteration =  0 , step =  (0.32461039802157954, 0.04522913024160119)\n",
      "Iteration =  1 , step =  (0.019307278337824307, 0.002066645521956456)\n",
      "Iteration =  2 , step =  (0.00780031177855689, 0.0014431794789802055)\n",
      "End\n",
      "Iteration =  0 , step =  (0.2281184264877738, 0.04827490402571183)\n",
      "Iteration =  1 , step =  (0.015522832916385454, 0.0022314057208491223)\n",
      "Iteration =  2 , step =  (0.006863944468326277, 0.0013234659456307085)\n",
      "End\n",
      "Iteration =  0 , step =  (8.050233041437126, 2.3983197969049996)\n",
      "Iteration =  1 , step =  (0.6303974810709072, 0.6354167382694398)\n",
      "Iteration =  2 , step =  (0.06288031784848958, 0.024855903073294883)\n",
      "Iteration =  3 , step =  (0.01145559871055779, 0.0028088969585664536)\n",
      "Iteration =  4 , step =  (0.006010646850702628, 0.0012263097038274218)\n",
      "End\n",
      "Iteration =  0 , step =  (4.79814174293812, 2.7579857862821813)\n",
      "Iteration =  1 , step =  (1.6502475681553603, 0.8997693378433161)\n",
      "Iteration =  2 , step =  (0.032523691724091086, 0.039158236230481314)\n",
      "Iteration =  3 , step =  (0.005699440586035109, 0.0013689562355432283)\n",
      "End\n",
      "Iteration =  0 , step =  (0.6159503651591676, 0.21219133828961867)\n",
      "Iteration =  1 , step =  (0.05111915609847739, 0.027627748999467627)\n",
      "Iteration =  2 , step =  (0.005392942649149468, 0.003977952906483839)\n",
      "End\n",
      "Iteration =  0 , step =  (0.7733010401115559, 0.4794741347028766)\n",
      "Iteration =  1 , step =  (0.16189894088342172, 0.04522339994413782)\n",
      "Iteration =  2 , step =  (0.03062712750066865, 0.008399613199739697)\n",
      "Iteration =  3 , step =  (0.005141518148013446, 0.0018964307218358734)\n",
      "End\n",
      "Iteration =  0 , step =  (5.1591143409161075, 2.9175637322599695)\n",
      "Iteration =  1 , step =  (1.5614737359788382, 1.036183301273184)\n",
      "Iteration =  2 , step =  (0.05384858718014307, 0.034596939736278864)\n",
      "Iteration =  3 , step =  (0.004944352513403416, 0.0010259571030817316)\n",
      "End\n",
      "Iteration =  0 , step =  (0.4314377271422183, 0.061151631116360794)\n",
      "Iteration =  1 , step =  (0.015292078404939957, 0.0025544898374496583)\n",
      "Iteration =  2 , step =  (0.004820375057559723, 0.0009381934275332071)\n",
      "End\n",
      "Iteration =  0 , step =  (0.7502187712865274, 0.3038986811366231)\n",
      "Iteration =  1 , step =  (0.028276053814814794, 0.004100362019008319)\n",
      "Iteration =  2 , step =  (0.004698845984784761, 0.000944784464991244)\n",
      "End\n",
      "Iteration =  0 , step =  (4.710888990121125, 2.731972385255352)\n",
      "Iteration =  1 , step =  (0.1986123704012579, 0.17480591054460337)\n",
      "Iteration =  2 , step =  (0.05459352683795693, 0.01945333113842529)\n",
      "Iteration =  3 , step =  (0.005330396588170139, 0.0032312891551335987)\n",
      "End\n",
      "Iteration =  0 , step =  (1.4809266966116335, 0.548492140902425)\n",
      "Iteration =  1 , step =  (0.14777534173671114, 0.2150210235234613)\n",
      "Iteration =  2 , step =  (0.020260104433933, 0.005109324294557016)\n",
      "Iteration =  3 , step =  (0.004450594524639584, 0.0012423019615162012)\n",
      "End\n",
      "Iteration =  0 , step =  (0.5710402522045808, 0.13774977490607843)\n",
      "Iteration =  1 , step =  (0.05683130854561291, 0.02911846644447258)\n",
      "Iteration =  2 , step =  (0.005412203563989859, 0.003050995744308338)\n",
      "End\n",
      "Iteration =  0 , step =  (4.29574080499887, 1.3250824216059778)\n",
      "Iteration =  1 , step =  (0.10876070593124165, 0.044384208810127834)\n",
      "Iteration =  2 , step =  (0.007438170843950154, 0.006036042719855139)\n",
      "End\n",
      "Iteration =  0 , step =  (0.9848208339078766, 0.258391236867169)\n",
      "Iteration =  1 , step =  (0.021203150983324814, 0.033728950330159435)\n",
      "Iteration =  2 , step =  (0.005004253795685809, 0.00506285716879562)\n",
      "End\n",
      "Iteration =  0 , step =  (0.22336197119725965, 0.025664207383580995)\n",
      "Iteration =  1 , step =  (0.012691221344550918, 0.001727234243498188)\n",
      "Iteration =  2 , step =  (0.004243734516830244, 0.0008295599539729359)\n",
      "End\n",
      "Iteration =  0 , step =  (0.19844924159902533, 0.02441480981535904)\n",
      "Iteration =  1 , step =  (0.011439745100283893, 0.003910450426163337)\n",
      "Iteration =  2 , step =  (0.004151155120557526, 0.0010591341027503809)\n",
      "End\n",
      "Iteration =  0 , step =  (6.238934297809475, 3.037259745506382)\n",
      "Iteration =  1 , step =  (0.40863497553922823, 0.23608226599511406)\n",
      "Iteration =  2 , step =  (0.05645070941028152, 0.028631865297760406)\n",
      "Iteration =  3 , step =  (0.01082870366101929, 0.004315361881015001)\n",
      "Iteration =  4 , step =  (0.004059802937365298, 0.0014226085396771282)\n",
      "End\n",
      "Iteration =  0 , step =  (5.101915082925225, 2.953252243836551)\n",
      "Iteration =  1 , step =  (1.7753145308999443, 1.0848424915568615)\n",
      "Iteration =  2 , step =  (0.05107235094812834, 0.03827032371379269)\n",
      "Iteration =  3 , step =  (0.006696127851894218, 0.002139116443969691)\n",
      "End\n",
      "Iteration =  0 , step =  (0.42351260954093284, 0.20678735187809005)\n",
      "Iteration =  1 , step =  (0.043714697397092994, 0.03379681627369546)\n",
      "Iteration =  2 , step =  (0.005938683370850573, 0.006534252198794999)\n",
      "End\n",
      "Iteration =  0 , step =  (3.324255623734953, 2.088508717712905)\n",
      "Iteration =  1 , step =  (0.1329676438977323, 0.11337813850545508)\n",
      "Iteration =  2 , step =  (0.013461249034326883, 0.02016968241670125)\n",
      "Iteration =  3 , step =  (0.003897314563374721, 0.002754520905256852)\n",
      "End\n",
      "Iteration =  0 , step =  (0.7837088625716981, 0.16970316350084313)\n",
      "Iteration =  1 , step =  (0.019687076226154954, 0.010592733053581105)\n",
      "Iteration =  2 , step =  (0.004880557279161257, 0.0009035049350925028)\n",
      "End\n",
      "Iteration =  0 , step =  (5.778522909582652, 3.2846213715382833)\n",
      "Iteration =  1 , step =  (1.444608442130063, 1.0976599589818727)\n",
      "Iteration =  2 , step =  (0.07424283527588482, 0.03928025621547948)\n",
      "Iteration =  3 , step =  (0.004945436143172888, 0.004031451336967251)\n",
      "End\n",
      "Iteration =  0 , step =  (0.2687624740290264, 0.06500788194572271)\n",
      "Iteration =  1 , step =  (0.016213294724690464, 0.0038678652353040244)\n",
      "Iteration =  2 , step =  (0.004030119546984956, 0.0007945122566859197)\n",
      "End\n",
      "Iteration =  0 , step =  (2.326357115945449, 1.1394367121650237)\n",
      "Iteration =  1 , step =  (0.2698490370260549, 0.0961188120474632)\n",
      "Iteration =  2 , step =  (0.059708833745524714, 0.021873142858531036)\n",
      "Iteration =  3 , step =  (0.012149461170739784, 0.003972358418455002)\n",
      "Iteration =  4 , step =  (0.003681514431977284, 0.0012173287427423851)\n",
      "End\n",
      "Iteration =  0 , step =  (4.805023328165383, 2.692606560621542)\n",
      "Iteration =  1 , step =  (0.8896272669033258, 0.9118332156812723)\n",
      "Iteration =  2 , step =  (0.10534429811608814, 0.03797434263881483)\n",
      "Iteration =  3 , step =  (0.009838805353751257, 0.002637631052608169)\n",
      "End\n",
      "Iteration =  0 , step =  (5.278195224557741, 3.0834583960274693)\n",
      "Iteration =  1 , step =  (1.352143808413056, 1.0455385078993618)\n",
      "Iteration =  2 , step =  (0.07265508784472186, 0.031166980288894086)\n",
      "Iteration =  3 , step =  (0.004661839178428551, 0.003494674308314294)\n",
      "End\n",
      "Iteration =  0 , step =  (6.698884203751523, 2.8408207600707187)\n",
      "Iteration =  1 , step =  (0.2831944333715497, 0.10761017933340344)\n",
      "Iteration =  2 , step =  (0.008972481117823117, 0.005303353511620479)\n",
      "End\n",
      "Iteration =  0 , step =  (1.1193194408894573, 0.8372816215462076)\n",
      "Iteration =  1 , step =  (0.10821359083824433, 0.0709702467096811)\n",
      "Iteration =  2 , step =  (0.016041331876323395, 0.009555775545654122)\n",
      "Iteration =  3 , step =  (0.003496766034198906, 0.0008684470677700062)\n",
      "End\n",
      "Iteration =  0 , step =  (0.3901543393596687, 0.15171654487063302)\n",
      "Iteration =  1 , step =  (0.041907664904970776, 0.02278220481216975)\n",
      "Iteration =  2 , step =  (0.004457302484750958, 0.0037754618452745525)\n",
      "End\n",
      "Iteration =  0 , step =  (0.420042757656101, 0.0863483961065411)\n",
      "Iteration =  1 , step =  (0.031370883701921315, 0.006010863927807364)\n",
      "Iteration =  2 , step =  (0.0037790618783546392, 0.0012384729788386117)\n",
      "End\n",
      "Iteration =  0 , step =  (10.310496268421375, 3.1084086508172675)\n",
      "Iteration =  1 , step =  (2.646837694298949, 0.662591661792262)\n",
      "Iteration =  2 , step =  (0.493567094284173, 0.170696677886363)\n",
      "Iteration =  3 , step =  (0.06548271128248206, 0.014871647368368768)\n",
      "Iteration =  4 , step =  (0.009077616537389588, 0.0032401366325562897)\n",
      "End\n",
      "Iteration =  0 , step =  (4.982258186859747, 2.916394742915926)\n",
      "Iteration =  1 , step =  (0.9676727098480433, 0.9540449764442107)\n",
      "Iteration =  2 , step =  (0.12070690047007337, 0.04160117888595738)\n",
      "Iteration =  3 , step =  (0.012964523751367363, 0.0037055983270535275)\n",
      "Iteration =  4 , step =  (0.0032853745256780087, 0.000656677014188034)\n",
      "End\n"
     ]
    }
   ],
   "source": [
    "test_probs_ttt = model_ttt.fit_dataset(test_dataset, return_pre_match_probs=True)"
   ]
  },
  {
   "cell_type": "code",
   "execution_count": 64,
   "metadata": {},
   "outputs": [
    {
     "name": "stdout",
     "output_type": "stream",
     "text": [
      "{'accuracy': np.float64(0.7275555555555555), 'accuracy_without_draws': np.float64(0.7275555555555555), 'log_loss': np.float64(0.5353360579616386), 'brier_score': np.float64(0.1804175749281074)}\n"
     ]
    }
   ],
   "source": [
    "test_metrics_ttt = binary_metrics_suite(probs=test_probs_ttt, outcomes=test_dataset.outcomes)\n",
    "print(test_metrics_ttt)"
   ]
  },
  {
   "cell_type": "code",
   "execution_count": 26,
   "metadata": {},
   "outputs": [
    {
     "ename": "TypeError",
     "evalue": "TrueSkillThroughTime.add_games() takes from 2 to 3 positional arguments but 5 were given",
     "output_type": "error",
     "traceback": [
      "\u001b[0;31m---------------------------------------------------------------------------\u001b[0m",
      "\u001b[0;31mTypeError\u001b[0m                                 Traceback (most recent call last)",
      "Cell \u001b[0;32mIn[26], line 1\u001b[0m\n\u001b[0;32m----> 1\u001b[0m test_probs_ttt \u001b[38;5;241m=\u001b[39m \u001b[43mmodel_ttt\u001b[49m\u001b[38;5;241;43m.\u001b[39;49m\u001b[43mfit_dataset\u001b[49m\u001b[43m(\u001b[49m\u001b[43mtest_dataset\u001b[49m\u001b[43m)\u001b[49m\n",
      "File \u001b[0;32m~/projects/riix/riix/models/ttt.py:105\u001b[0m, in \u001b[0;36mTrueSkillThroughTime.fit_dataset\u001b[0;34m(self, dataset, return_pre_match_probs, iterations)\u001b[0m\n\u001b[1;32m    101\u001b[0m fixtures, timestamps \u001b[38;5;241m=\u001b[39m \u001b[38;5;28mself\u001b[39m\u001b[38;5;241m.\u001b[39m_riix_to_ttt(dataset)\n\u001b[1;32m    103\u001b[0m \u001b[38;5;28;01mif\u001b[39;00m \u001b[38;5;129;01mnot\u001b[39;00m return_pre_match_probs:\n\u001b[1;32m    104\u001b[0m     \u001b[38;5;66;03m# Simplest case - just add all games and iterate\u001b[39;00m\n\u001b[0;32m--> 105\u001b[0m     \u001b[38;5;28;43mself\u001b[39;49m\u001b[38;5;241;43m.\u001b[39;49m\u001b[43madd_games\u001b[49m\u001b[43m(\u001b[49m\u001b[43mfixtures\u001b[49m\u001b[43m,\u001b[49m\u001b[43m \u001b[49m\u001b[43m[\u001b[49m\u001b[43m]\u001b[49m\u001b[43m,\u001b[49m\u001b[43m \u001b[49m\u001b[43mtimestamps\u001b[49m\u001b[43m,\u001b[49m\u001b[43m \u001b[49m\u001b[43m[\u001b[49m\u001b[43m]\u001b[49m\u001b[43m)\u001b[49m\n\u001b[1;32m    106\u001b[0m     \u001b[38;5;28mself\u001b[39m\u001b[38;5;241m.\u001b[39miterate(iterations)\n\u001b[1;32m    107\u001b[0m     \u001b[38;5;28;01mreturn\u001b[39;00m \u001b[38;5;28;01mNone\u001b[39;00m\n",
      "\u001b[0;31mTypeError\u001b[0m: TrueSkillThroughTime.add_games() takes from 2 to 3 positional arguments but 5 were given"
     ]
    }
   ],
   "source": [
    "test_probs_ttt = model_ttt.fit_dataset(test_dataset)"
   ]
  },
  {
   "cell_type": "code",
   "execution_count": 136,
   "metadata": {},
   "outputs": [],
   "source": [
    "def objective_function_EloPlus(lambda_reg, dataset, train_dataset, test_dataset):\n",
    "    \"\"\"\n",
    "    Objective function to minimize. Takes gamma and returns Brier score.\n",
    "    \n",
    "    Parameters:\n",
    "        gamma: The parameter to optimize\n",
    "        dataset: Dataset containing competitors\n",
    "        train_dataset: Training dataset\n",
    "        test_dataset: Test dataset for evaluation\n",
    "        \n",
    "    Returns:\n",
    "        float: Brier score (lower is better)\n",
    "    \"\"\"\n",
    "    # Initialize model with current gamma\n",
    "    model = EloPlus(dataset.competitors, lambda_reg=lambda_reg, total_iterations = 50, update_method = 'batched')\n",
    "    model.fit_dataset(train_dataset)\n",
    "    test_probs = model.fit_dataset(test_dataset, return_pre_match_probs=True)\n",
    "    test_metrics = binary_metrics_suite(probs=test_probs, outcomes=test_dataset.outcomes)\n",
    "    brier = test_metrics['brier_score']\n",
    "    print(\"lambda_reg of: \", lambda_reg, \" gives brier of: \", brier)\n",
    "    return test_metrics['brier_score']"
   ]
  },
  {
   "cell_type": "code",
   "execution_count": null,
   "metadata": {},
   "outputs": [],
   "source": [
    "def objective_function_Elo(k, dataset, train_dataset, test_dataset):\n",
    "    \"\"\"\n",
    "    Objective function to minimize. Takes gamma and returns Brier score.\n",
    "        \n",
    "    Returns:\n",
    "        float: Brier score (lower is better)\n",
    "    \"\"\"\n",
    "    # Initialize model with current gamma\n",
    "    model = Elo(dataset.competitors, k=k)\n",
    "    model.fit_dataset(train_dataset)\n",
    "    test_probs = model.fit_dataset(test_dataset, return_pre_match_probs=True)\n",
    "    test_metrics = binary_metrics_suite(probs=test_probs, outcomes=test_dataset.outcomes)\n",
    "    brier = test_metrics['brier_score']\n",
    "    print(\"K of: \", k, \" gives brier of: \", brier)\n",
    "    return brier"
   ]
  },
  {
   "cell_type": "code",
   "execution_count": 92,
   "metadata": {},
   "outputs": [],
   "source": [
    "def objective_function_Glicko(c, dataset, train_dataset, test_dataset):\n",
    "    \"\"\"\n",
    "    Objective function to minimize. Takes gamma and returns Brier score.\n",
    "        \n",
    "    Returns:\n",
    "        float: Brier score (lower is better)\n",
    "    \"\"\"\n",
    "    # Initialize model with current gamma\n",
    "    model = Glicko(dataset.competitors, c = c)\n",
    "    model.fit_dataset(train_dataset)\n",
    "    test_probs = model.fit_dataset(test_dataset, return_pre_match_probs=True)\n",
    "    test_metrics = binary_metrics_suite(probs=test_probs, outcomes=test_dataset.outcomes)\n",
    "    brier = test_metrics['brier_score']\n",
    "    print(\"c of: \", c, \" gives brier of: \", brier)\n",
    "    return brier"
   ]
  },
  {
   "cell_type": "code",
   "execution_count": 48,
   "metadata": {},
   "outputs": [],
   "source": [
    "def objective_function_Sticko(c, dataset, train_dataset, test_dataset):\n",
    "    \"\"\"\n",
    "    Objective function to minimize. Takes gamma and returns Brier score.\n",
    "        \n",
    "    Returns:\n",
    "        float: Brier score (lower is better)\n",
    "    \"\"\"\n",
    "    # Initialize model with current gamma\n",
    "    model = Sticko(dataset.competitors, c = 7.301939694943711, h = 260.6, beta = 0.023903153784953272)\n",
    "    model.fit_dataset(train_dataset)\n",
    "    test_probs = model.fit_dataset(test_dataset, return_pre_match_probs=True)\n",
    "    test_metrics = binary_metrics_suite(probs=test_probs, outcomes=test_dataset.outcomes)\n",
    "    brier = test_metrics['brier_score']\n",
    "    print(\"c of: \", c, \" gives brier of: \", brier)\n",
    "    return brier"
   ]
  },
  {
   "cell_type": "code",
   "execution_count": 69,
   "metadata": {},
   "outputs": [],
   "source": [
    "def objective_function_ttt(beta, dataset, train_dataset, test_dataset):\n",
    "    \"\"\"\n",
    "    Objective function to minimize. Takes gamma and returns Brier score.\n",
    "        \n",
    "    Returns:\n",
    "        float: Brier score (lower is better)\n",
    "    \"\"\"\n",
    "    # Initialize model with current gamma\n",
    "    model = TrueSkillThroughTime(train_dataset, beta = beta)\n",
    "    model.iterate(5)\n",
    "    test_probs = model.fit_dataset(test_dataset, return_pre_match_probs=True, iterations = 5)\n",
    "    test_metrics = binary_metrics_suite(probs=test_probs, outcomes=test_dataset.outcomes)\n",
    "    brier = test_metrics['brier_score']\n",
    "    print(\"Beta of: \", beta, \" gives brier of: \", brier)\n",
    "    return brier"
   ]
  },
  {
   "cell_type": "code",
   "execution_count": 49,
   "metadata": {},
   "outputs": [
    {
     "name": "stdout",
     "output_type": "stream",
     "text": [
      "c of:  0.0  gives brier of:  0.18709481075415313\n",
      "c of:  1.0  gives brier of:  0.18689582443859692\n",
      "c of:  2.6180339999999998  gives brier of:  0.18600621710382773\n",
      "c of:  5.2360680251559995  gives brier of:  0.18456449175483397\n",
      "c of:  9.472136091015262  gives brier of:  0.1845489398432723\n",
      "c of:  7.377102659747564  gives brier of:  0.1841746705159516\n",
      "c of:  6.559300224511162  gives brier of:  0.18422555629072543\n",
      "c of:  8.177334199355162  gives brier of:  0.18423592548357012\n",
      "c of:  7.330955902864865  gives brier of:  0.18417425264080226\n",
      "c of:  7.305012606453942  gives brier of:  0.18417416283845062\n",
      "c of:  7.295679585287671  gives brier of:  0.18417418464567598\n",
      "c of:  7.30745412625843  gives brier of:  0.18417416530210892\n",
      "c of:  7.304457722875849  gives brier of:  0.1841741624257989\n",
      "c of:  7.301104772773843  gives brier of:  0.1841741641114022\n",
      "c of:  7.303569342944174  gives brier of:  0.18417416187823357\n",
      "c of:  7.302627960934493  gives brier of:  0.18417416153853075\n",
      "c of:  7.301806562550445  gives brier of:  0.18417416182497798\n",
      "c of:  7.302650426959217  gives brier of:  0.18417416154433078\n",
      "c of:  7.302459708463547  gives brier of:  0.18417416149760493\n",
      "c of:  7.3022102289317035  gives brier of:  0.184174161445701\n",
      "c of:  7.3020560420987195  gives brier of:  0.18417416141912768\n",
      "c of:  7.301960749393584  gives brier of:  0.1841741614048089\n",
      "c of:  7.301901855261858  gives brier of:  0.18417416152142846\n",
      "c of:  7.301997147966993  gives brier of:  0.18417416141008858\n",
      "c of:  7.301938253837665  gives brier of:  0.18417416140590676\n",
      "c of:  7.301956914902792  gives brier of:  0.18417416140426635\n",
      "c of:  7.301951894457421  gives brier of:  0.18417416140355994\n",
      "c of:  7.301946684204455  gives brier of:  0.18417416140283152\n",
      "c of:  7.301943464090974  gives brier of:  0.1841741614023837\n",
      "c of:  7.301941473951358  gives brier of:  0.1841741614021079\n",
      "c of:  7.301940243977412  gives brier of:  0.1841741614019378\n",
      "c of:  7.301939483811694  gives brier of:  0.18417416140200715\n",
      "c of:  7.3019403520561275  gives brier of:  0.18417416140195272\n",
      "c of:  7.301940036562473  gives brier of:  0.18417416140190912\n",
      "c of:  7.301939825430469  gives brier of:  0.18417416140187995\n",
      "c of:  7.301939694943711  gives brier of:  0.18417416140186194\n"
     ]
    }
   ],
   "source": [
    "result = minimize_scalar(\n",
    "    objective_function_Sticko,\n",
    "    args=(dataset, train_dataset, test_dataset),\n",
    "    method='brent',  # Best general-purpose 1D optimizer\n",
    ")"
   ]
  },
  {
   "cell_type": "code",
   "execution_count": 80,
   "metadata": {},
   "outputs": [
    {
     "name": "stdout",
     "output_type": "stream",
     "text": [
      "Optimal variable 9.465461359819516 gives brier of 0.19587134446883256\n"
     ]
    }
   ],
   "source": [
    "# Get results\n",
    "print(\"Optimal variable\", result.x, \"gives brier of\", result.fun)"
   ]
  },
  {
   "cell_type": "code",
   "execution_count": 9,
   "metadata": {},
   "outputs": [
    {
     "name": "stdout",
     "output_type": "stream",
     "text": [
      "Speedup branch\n"
     ]
    }
   ],
   "source": [
    "a = atp.to_ttt_format(sample_games=50000)\n",
    "h = ttt.History(composition = a[0], times = a[1])"
   ]
  },
  {
   "cell_type": "code",
   "execution_count": 10,
   "metadata": {},
   "outputs": [
    {
     "name": "stdout",
     "output_type": "stream",
     "text": [
      "Iteration =  0 , step =  (14.945056624654391, 5.377917096145063)\n",
      "Iteration =  1 , step =  (2.812648566510126, 0.9406496200515968)\n",
      "Iteration =  2 , step =  (0.6736415422089026, 0.19307175884181205)\n",
      "Iteration =  3 , step =  (0.16691655031202535, 0.050757047021259494)\n",
      "Iteration =  4 , step =  (0.056196947812871656, 0.016280531610799898)\n",
      "Iteration =  5 , step =  (0.02045164473815486, 0.005719036192219917)\n",
      "Iteration =  6 , step =  (0.017492529891368847, 0.0033196865249522922)\n",
      "Iteration =  7 , step =  (0.016703107565909647, 0.0030154666622732584)\n",
      "Iteration =  8 , step =  (0.015375995091575945, 0.002739081857586978)\n",
      "Iteration =  9 , step =  (0.014051774145483975, 0.0025132449104439125)\n",
      "End\n"
     ]
    },
    {
     "data": {
      "text/plain": [
       "((0.014051774145483975, 0.0025132449104439125), 10)"
      ]
     },
     "execution_count": 10,
     "metadata": {},
     "output_type": "execute_result"
    }
   ],
   "source": [
    "h.convergence(epsilon = 0.01, iterations = 10)"
   ]
  },
  {
   "cell_type": "code",
   "execution_count": 28,
   "metadata": {},
   "outputs": [
    {
     "data": {
      "text/plain": [
       "array([[10617, 23969],\n",
       "       [24225, 33677],\n",
       "       [13428,  4026],\n",
       "       ...,\n",
       "       [34224, 36744],\n",
       "       [30320, 16045],\n",
       "       [18871, 34219]], dtype=int32)"
      ]
     },
     "execution_count": 28,
     "metadata": {},
     "output_type": "execute_result"
    }
   ],
   "source": [
    "dataset.matchups"
   ]
  },
  {
   "cell_type": "code",
   "execution_count": null,
   "metadata": {},
   "outputs": [
    {
     "data": {
      "text/html": [
       "<div><style>\n",
       ".dataframe > thead > tr,\n",
       ".dataframe > tbody > tr {\n",
       "  text-align: right;\n",
       "  white-space: pre-wrap;\n",
       "}\n",
       "</style>\n",
       "<small>shape: (958_282, 6)</small><table border=\"1\" class=\"dataframe\"><thead><tr><th>P1</th><th>P2</th><th>Tour</th><th>Surface</th><th>Day</th><th>Date</th></tr><tr><td>i64</td><td>i64</td><td>i64</td><td>i8</td><td>i64</td><td>date</td></tr></thead><tbody><tr><td>115</td><td>105</td><td>1</td><td>0</td><td>2568</td><td>1997-01-12</td></tr><tr><td>35</td><td>223</td><td>1</td><td>0</td><td>2558</td><td>1997-01-02</td></tr><tr><td>61</td><td>110</td><td>1</td><td>0</td><td>2558</td><td>1997-01-02</td></tr><tr><td>275</td><td>181</td><td>1</td><td>0</td><td>2558</td><td>1997-01-02</td></tr><tr><td>105</td><td>103</td><td>1</td><td>0</td><td>2558</td><td>1997-01-02</td></tr><tr><td>&hellip;</td><td>&hellip;</td><td>&hellip;</td><td>&hellip;</td><td>&hellip;</td><td>&hellip;</td></tr><tr><td>88766</td><td>44555</td><td>20203</td><td>0</td><td>12739</td><td>2024-11-17</td></tr><tr><td>50504</td><td>99846</td><td>20211</td><td>0</td><td>12738</td><td>2024-11-16</td></tr><tr><td>99982</td><td>84556</td><td>20211</td><td>0</td><td>12738</td><td>2024-11-16</td></tr><tr><td>95698</td><td>53207</td><td>20211</td><td>0</td><td>12738</td><td>2024-11-16</td></tr><tr><td>26965</td><td>107695</td><td>20211</td><td>0</td><td>12738</td><td>2024-11-16</td></tr></tbody></table></div>"
      ],
      "text/plain": [
       "shape: (958_282, 6)\n",
       "┌───────┬────────┬───────┬─────────┬───────┬────────────┐\n",
       "│ P1    ┆ P2     ┆ Tour  ┆ Surface ┆ Day   ┆ Date       │\n",
       "│ ---   ┆ ---    ┆ ---   ┆ ---     ┆ ---   ┆ ---        │\n",
       "│ i64   ┆ i64    ┆ i64   ┆ i8      ┆ i64   ┆ date       │\n",
       "╞═══════╪════════╪═══════╪═════════╪═══════╪════════════╡\n",
       "│ 115   ┆ 105    ┆ 1     ┆ 0       ┆ 2568  ┆ 1997-01-12 │\n",
       "│ 35    ┆ 223    ┆ 1     ┆ 0       ┆ 2558  ┆ 1997-01-02 │\n",
       "│ 61    ┆ 110    ┆ 1     ┆ 0       ┆ 2558  ┆ 1997-01-02 │\n",
       "│ 275   ┆ 181    ┆ 1     ┆ 0       ┆ 2558  ┆ 1997-01-02 │\n",
       "│ 105   ┆ 103    ┆ 1     ┆ 0       ┆ 2558  ┆ 1997-01-02 │\n",
       "│ …     ┆ …      ┆ …     ┆ …       ┆ …     ┆ …          │\n",
       "│ 88766 ┆ 44555  ┆ 20203 ┆ 0       ┆ 12739 ┆ 2024-11-17 │\n",
       "│ 50504 ┆ 99846  ┆ 20211 ┆ 0       ┆ 12738 ┆ 2024-11-16 │\n",
       "│ 99982 ┆ 84556  ┆ 20211 ┆ 0       ┆ 12738 ┆ 2024-11-16 │\n",
       "│ 95698 ┆ 53207  ┆ 20211 ┆ 0       ┆ 12738 ┆ 2024-11-16 │\n",
       "│ 26965 ┆ 107695 ┆ 20211 ┆ 0       ┆ 12738 ┆ 2024-11-16 │\n",
       "└───────┴────────┴───────┴─────────┴───────┴────────────┘"
      ]
     },
     "execution_count": 30,
     "metadata": {},
     "output_type": "execute_result"
    }
   ],
   "source": []
  },
  {
   "cell_type": "code",
   "execution_count": 114,
   "metadata": {},
   "outputs": [],
   "source": [
    "mu = [tp[1].mu for tp in h.learning_curves()[5992]]"
   ]
  },
  {
   "cell_type": "code",
   "execution_count": 138,
   "metadata": {},
   "outputs": [
    {
     "data": {
      "text/plain": [
       "[(12704, N(mu=7.452, sigma=0.439)),\n",
       " (12736, N(mu=6.523, sigma=0.400)),\n",
       " (12723, N(mu=6.236, sigma=0.375)),\n",
       " (11510, N(mu=6.346, sigma=0.489)),\n",
       " (12739, N(mu=8.172, sigma=0.434))]"
      ]
     },
     "execution_count": 138,
     "metadata": {},
     "output_type": "execute_result"
    }
   ],
   "source": [
    "players = [5992, 22807, 30470, 19, 47275]\n",
    "\n",
    "[h.learning_curves()[player][-1] for player in players]"
   ]
  },
  {
   "cell_type": "code",
   "execution_count": 120,
   "metadata": {},
   "outputs": [],
   "source": [
    "whr = whole_history_rating.Base()\n",
    "whr.load_games(atp.to_whr_format())"
   ]
  },
  {
   "cell_type": "code",
   "execution_count": 135,
   "metadata": {},
   "outputs": [],
   "source": [
    "whr.iterate(5)"
   ]
  },
  {
   "cell_type": "code",
   "execution_count": 50,
   "metadata": {},
   "outputs": [
    {
     "name": "stdout",
     "output_type": "stream",
     "text": [
      "\n",
      "Benchmark with 1000 messages:\n",
      "Gaussian objects: 0.024 seconds\n",
      "Direct numerical: 0.008 seconds\n",
      "Speedup factor: 2.99x\n",
      "\n",
      "Benchmark with 10000 messages:\n",
      "Gaussian objects: 0.097 seconds\n",
      "Direct numerical: 0.152 seconds\n",
      "Speedup factor: 0.64x\n",
      "\n",
      "Benchmark with 100000 messages:\n",
      "Gaussian objects: 0.957 seconds\n",
      "Direct numerical: 1.899 seconds\n",
      "Speedup factor: 0.50x\n"
     ]
    }
   ],
   "source": [
    "import time\n",
    "import numpy as np\n",
    "from dataclasses import dataclass\n",
    "\n",
    "# Current approach with Gaussian objects\n",
    "class Gaussian:\n",
    "    def __init__(self, mu, sigma):\n",
    "        self.mu = mu\n",
    "        self.sigma = sigma\n",
    "    \n",
    "    def __mul__(self, other):\n",
    "        pi1, pi2 = self.sigma**-2, other.sigma**-2\n",
    "        pi = pi1 + pi2\n",
    "        tau = (self.mu * pi1 + other.mu * pi2) / pi\n",
    "        sigma = np.sqrt(1/pi)\n",
    "        return Gaussian(tau, sigma)\n",
    "\n",
    "# New approach using just numbers\n",
    "@dataclass\n",
    "class FastMessage:\n",
    "    mu: float\n",
    "    sigma: float\n",
    "\n",
    "def multiply_messages(m1: FastMessage, m2: FastMessage) -> FastMessage:\n",
    "    pi1, pi2 = m1.sigma**-2, m2.sigma**-2\n",
    "    pi = pi1 + pi2\n",
    "    tau = (m1.mu * pi1 + m2.mu * pi2) / pi\n",
    "    sigma = np.sqrt(1/pi)\n",
    "    return FastMessage(tau, sigma)\n",
    "\n",
    "def benchmark(n_messages=10000, n_iterations=5):\n",
    "    \"\"\"\n",
    "    Benchmark comparing Gaussian objects vs direct numerical operations.\n",
    "    \n",
    "    Args:\n",
    "        n_messages: Number of message updates to perform\n",
    "        n_iterations: Number of iterations through the messages\n",
    "    \"\"\"\n",
    "    # Generate random data\n",
    "    np.random.seed(42)\n",
    "    means = np.random.randn(n_messages)\n",
    "    stds = np.abs(np.random.randn(n_messages)) + 1\n",
    "    \n",
    "    # Test Gaussian objects\n",
    "    start = time.time()\n",
    "    messages = [Gaussian(mu, sigma) for mu, sigma in zip(means, stds)]\n",
    "    for _ in range(n_iterations):\n",
    "        for i in range(1, len(messages)):\n",
    "            messages[i] = messages[i] * messages[i-1]\n",
    "    gaussian_time = time.time() - start\n",
    "    \n",
    "    # Test direct numerical\n",
    "    start = time.time()\n",
    "    fast_messages = [FastMessage(mu, sigma) for mu, sigma in zip(means, stds)]\n",
    "    for _ in range(n_iterations):\n",
    "        for i in range(1, len(fast_messages)):\n",
    "            fast_messages[i] = multiply_messages(fast_messages[i], fast_messages[i-1])\n",
    "    numerical_time = time.time() - start\n",
    "    \n",
    "    return {\n",
    "        'gaussian_time': gaussian_time,\n",
    "        'numerical_time': numerical_time,\n",
    "        'speedup': gaussian_time / numerical_time\n",
    "    }\n",
    "\n",
    "# Run benchmarks with different sizes\n",
    "sizes = [1000, 10000, 100000]\n",
    "for size in sizes:\n",
    "    print(f\"\\nBenchmark with {size} messages:\")\n",
    "    results = benchmark(n_messages=size)\n",
    "    print(f\"Gaussian objects: {results['gaussian_time']:.3f} seconds\")\n",
    "    print(f\"Direct numerical: {results['numerical_time']:.3f} seconds\")\n",
    "    print(f\"Speedup factor: {results['speedup']:.2f}x\")"
   ]
  }
 ],
 "metadata": {
  "kernelspec": {
   "display_name": ".tennis",
   "language": "python",
   "name": "python3"
  },
  "language_info": {
   "codemirror_mode": {
    "name": "ipython",
    "version": 3
   },
   "file_extension": ".py",
   "mimetype": "text/x-python",
   "name": "python",
   "nbconvert_exporter": "python",
   "pygments_lexer": "ipython3",
   "version": "3.10.12"
  }
 },
 "nbformat": 4,
 "nbformat_minor": 2
}
